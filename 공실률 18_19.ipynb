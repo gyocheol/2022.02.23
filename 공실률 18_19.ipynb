{
 "cells": [
  {
   "cell_type": "code",
   "execution_count": 1,
   "id": "28a47f37",
   "metadata": {},
   "outputs": [],
   "source": [
    "import pandas as pd\n",
    "import openpyxl\n",
    "from IPython.core.interactiveshell import InteractiveShell\n",
    "InteractiveShell.ast_node_interactivity=\"all\"\n",
    "import datetime as dt\n",
    "import numpy as np\n",
    "import pandas as pd\n",
    "import matplotlib.pyplot as plt\n",
    "import seaborn as sns\n",
    "# 한글 패치\n",
    "from matplotlib import font_manager, rc\n",
    "\n",
    "font_name = font_manager.FontProperties(fname=\"c:/Windows/Fonts/malgun.ttf\").get_name()\n",
    "rc('font', family=font_name)\n",
    "# %matplotlib inline \n",
    "get_ipython().run_line_magic(\"matplotlib\", \"inline\")"
   ]
  },
  {
   "cell_type": "code",
   "execution_count": 2,
   "id": "82964486",
   "metadata": {},
   "outputs": [],
   "source": [
    "df_18 = pd.read_excel('18_공실률.xls')"
   ]
  },
  {
   "cell_type": "code",
   "execution_count": 3,
   "id": "c3d6333b",
   "metadata": {},
   "outputs": [],
   "source": [
    "df_19 = pd.read_excel('19_공실률.xls')"
   ]
  },
  {
   "cell_type": "code",
   "execution_count": 4,
   "id": "53f33580",
   "metadata": {},
   "outputs": [],
   "source": [
    "df_18 = df_18[['하위상권', '공실률']]"
   ]
  },
  {
   "cell_type": "code",
   "execution_count": 5,
   "id": "e35b00c8",
   "metadata": {},
   "outputs": [],
   "source": [
    "df_19 = df_19[['하위상권', '공실률']]"
   ]
  },
  {
   "cell_type": "code",
   "execution_count": 6,
   "id": "457fb72b",
   "metadata": {},
   "outputs": [],
   "source": [
    "df_18 = df_18.drop(df_18.index[0])"
   ]
  },
  {
   "cell_type": "code",
   "execution_count": 7,
   "id": "6ebb7d3e",
   "metadata": {},
   "outputs": [],
   "source": [
    "df_19 = df_19.drop(df_19.index[0])"
   ]
  },
  {
   "cell_type": "code",
   "execution_count": 8,
   "id": "c3ac19ee",
   "metadata": {},
   "outputs": [
    {
     "data": {
      "text/html": [
       "<div>\n",
       "<style scoped>\n",
       "    .dataframe tbody tr th:only-of-type {\n",
       "        vertical-align: middle;\n",
       "    }\n",
       "\n",
       "    .dataframe tbody tr th {\n",
       "        vertical-align: top;\n",
       "    }\n",
       "\n",
       "    .dataframe thead th {\n",
       "        text-align: right;\n",
       "    }\n",
       "</style>\n",
       "<table border=\"1\" class=\"dataframe\">\n",
       "  <thead>\n",
       "    <tr style=\"text-align: right;\">\n",
       "      <th></th>\n",
       "      <th>하위상권</th>\n",
       "      <th>공실률_x</th>\n",
       "      <th>공실률_y</th>\n",
       "    </tr>\n",
       "  </thead>\n",
       "  <tbody>\n",
       "    <tr>\n",
       "      <th>0</th>\n",
       "      <td>서울</td>\n",
       "      <td>11.4</td>\n",
       "      <td>9.1</td>\n",
       "    </tr>\n",
       "    <tr>\n",
       "      <th>1</th>\n",
       "      <td>소계</td>\n",
       "      <td>14.5</td>\n",
       "      <td>10.4</td>\n",
       "    </tr>\n",
       "    <tr>\n",
       "      <th>2</th>\n",
       "      <td>소계</td>\n",
       "      <td>14.5</td>\n",
       "      <td>7.4</td>\n",
       "    </tr>\n",
       "    <tr>\n",
       "      <th>3</th>\n",
       "      <td>소계</td>\n",
       "      <td>14.5</td>\n",
       "      <td>10.5</td>\n",
       "    </tr>\n",
       "    <tr>\n",
       "      <th>4</th>\n",
       "      <td>소계</td>\n",
       "      <td>14.5</td>\n",
       "      <td>11.5</td>\n",
       "    </tr>\n",
       "    <tr>\n",
       "      <th>5</th>\n",
       "      <td>소계</td>\n",
       "      <td>8.4</td>\n",
       "      <td>10.4</td>\n",
       "    </tr>\n",
       "    <tr>\n",
       "      <th>6</th>\n",
       "      <td>소계</td>\n",
       "      <td>8.4</td>\n",
       "      <td>7.4</td>\n",
       "    </tr>\n",
       "    <tr>\n",
       "      <th>7</th>\n",
       "      <td>소계</td>\n",
       "      <td>8.4</td>\n",
       "      <td>10.5</td>\n",
       "    </tr>\n",
       "    <tr>\n",
       "      <th>8</th>\n",
       "      <td>소계</td>\n",
       "      <td>8.4</td>\n",
       "      <td>11.5</td>\n",
       "    </tr>\n",
       "    <tr>\n",
       "      <th>9</th>\n",
       "      <td>소계</td>\n",
       "      <td>11.3</td>\n",
       "      <td>10.4</td>\n",
       "    </tr>\n",
       "    <tr>\n",
       "      <th>10</th>\n",
       "      <td>소계</td>\n",
       "      <td>11.3</td>\n",
       "      <td>7.4</td>\n",
       "    </tr>\n",
       "    <tr>\n",
       "      <th>11</th>\n",
       "      <td>소계</td>\n",
       "      <td>11.3</td>\n",
       "      <td>10.5</td>\n",
       "    </tr>\n",
       "    <tr>\n",
       "      <th>12</th>\n",
       "      <td>소계</td>\n",
       "      <td>11.3</td>\n",
       "      <td>11.5</td>\n",
       "    </tr>\n",
       "    <tr>\n",
       "      <th>13</th>\n",
       "      <td>소계</td>\n",
       "      <td>14</td>\n",
       "      <td>10.4</td>\n",
       "    </tr>\n",
       "    <tr>\n",
       "      <th>14</th>\n",
       "      <td>소계</td>\n",
       "      <td>14</td>\n",
       "      <td>7.4</td>\n",
       "    </tr>\n",
       "    <tr>\n",
       "      <th>15</th>\n",
       "      <td>소계</td>\n",
       "      <td>14</td>\n",
       "      <td>10.5</td>\n",
       "    </tr>\n",
       "    <tr>\n",
       "      <th>16</th>\n",
       "      <td>소계</td>\n",
       "      <td>14</td>\n",
       "      <td>11.5</td>\n",
       "    </tr>\n",
       "    <tr>\n",
       "      <th>17</th>\n",
       "      <td>광화문</td>\n",
       "      <td>7.6</td>\n",
       "      <td>7.4</td>\n",
       "    </tr>\n",
       "    <tr>\n",
       "      <th>18</th>\n",
       "      <td>동대문</td>\n",
       "      <td>8.4</td>\n",
       "      <td>10.3</td>\n",
       "    </tr>\n",
       "    <tr>\n",
       "      <th>19</th>\n",
       "      <td>명동</td>\n",
       "      <td>9.5</td>\n",
       "      <td>9.2</td>\n",
       "    </tr>\n",
       "    <tr>\n",
       "      <th>20</th>\n",
       "      <td>종로</td>\n",
       "      <td>19</td>\n",
       "      <td>10.6</td>\n",
       "    </tr>\n",
       "    <tr>\n",
       "      <th>21</th>\n",
       "      <td>충무로</td>\n",
       "      <td>20.9</td>\n",
       "      <td>19.1</td>\n",
       "    </tr>\n",
       "    <tr>\n",
       "      <th>22</th>\n",
       "      <td>강남대로</td>\n",
       "      <td>18.5</td>\n",
       "      <td>9.5</td>\n",
       "    </tr>\n",
       "    <tr>\n",
       "      <th>23</th>\n",
       "      <td>논현역</td>\n",
       "      <td>2.6</td>\n",
       "      <td>4.7</td>\n",
       "    </tr>\n",
       "    <tr>\n",
       "      <th>24</th>\n",
       "      <td>도산대로</td>\n",
       "      <td>7.9</td>\n",
       "      <td>11.1</td>\n",
       "    </tr>\n",
       "    <tr>\n",
       "      <th>25</th>\n",
       "      <td>서초</td>\n",
       "      <td>10.6</td>\n",
       "      <td>8.2</td>\n",
       "    </tr>\n",
       "    <tr>\n",
       "      <th>26</th>\n",
       "      <td>테헤란로</td>\n",
       "      <td>6.5</td>\n",
       "      <td>6.9</td>\n",
       "    </tr>\n",
       "    <tr>\n",
       "      <th>27</th>\n",
       "      <td>공덕역</td>\n",
       "      <td>5.8</td>\n",
       "      <td>7</td>\n",
       "    </tr>\n",
       "    <tr>\n",
       "      <th>28</th>\n",
       "      <td>여의도</td>\n",
       "      <td>12.7</td>\n",
       "      <td>11</td>\n",
       "    </tr>\n",
       "    <tr>\n",
       "      <th>29</th>\n",
       "      <td>영등포</td>\n",
       "      <td>11.8</td>\n",
       "      <td>12.9</td>\n",
       "    </tr>\n",
       "    <tr>\n",
       "      <th>30</th>\n",
       "      <td>목동</td>\n",
       "      <td>20.9</td>\n",
       "      <td>13.2</td>\n",
       "    </tr>\n",
       "    <tr>\n",
       "      <th>31</th>\n",
       "      <td>사당</td>\n",
       "      <td>4.8</td>\n",
       "      <td>5</td>\n",
       "    </tr>\n",
       "    <tr>\n",
       "      <th>32</th>\n",
       "      <td>용산</td>\n",
       "      <td>17.5</td>\n",
       "      <td>6.8</td>\n",
       "    </tr>\n",
       "    <tr>\n",
       "      <th>33</th>\n",
       "      <td>잠실</td>\n",
       "      <td>12.2</td>\n",
       "      <td>12.2</td>\n",
       "    </tr>\n",
       "    <tr>\n",
       "      <th>34</th>\n",
       "      <td>장안동</td>\n",
       "      <td>12.4</td>\n",
       "      <td>12.8</td>\n",
       "    </tr>\n",
       "    <tr>\n",
       "      <th>35</th>\n",
       "      <td>천호</td>\n",
       "      <td>12.6</td>\n",
       "      <td>14.8</td>\n",
       "    </tr>\n",
       "    <tr>\n",
       "      <th>36</th>\n",
       "      <td>홍대합정</td>\n",
       "      <td>4.1</td>\n",
       "      <td>4.9</td>\n",
       "    </tr>\n",
       "    <tr>\n",
       "      <th>37</th>\n",
       "      <td>화곡</td>\n",
       "      <td>20.8</td>\n",
       "      <td>19.9</td>\n",
       "    </tr>\n",
       "  </tbody>\n",
       "</table>\n",
       "</div>"
      ],
      "text/plain": [
       "    하위상권 공실률_x 공실률_y\n",
       "0     서울  11.4   9.1\n",
       "1     소계  14.5  10.4\n",
       "2     소계  14.5   7.4\n",
       "3     소계  14.5  10.5\n",
       "4     소계  14.5  11.5\n",
       "5     소계   8.4  10.4\n",
       "6     소계   8.4   7.4\n",
       "7     소계   8.4  10.5\n",
       "8     소계   8.4  11.5\n",
       "9     소계  11.3  10.4\n",
       "10    소계  11.3   7.4\n",
       "11    소계  11.3  10.5\n",
       "12    소계  11.3  11.5\n",
       "13    소계    14  10.4\n",
       "14    소계    14   7.4\n",
       "15    소계    14  10.5\n",
       "16    소계    14  11.5\n",
       "17   광화문   7.6   7.4\n",
       "18   동대문   8.4  10.3\n",
       "19    명동   9.5   9.2\n",
       "20    종로    19  10.6\n",
       "21   충무로  20.9  19.1\n",
       "22  강남대로  18.5   9.5\n",
       "23   논현역   2.6   4.7\n",
       "24  도산대로   7.9  11.1\n",
       "25    서초  10.6   8.2\n",
       "26  테헤란로   6.5   6.9\n",
       "27   공덕역   5.8     7\n",
       "28   여의도  12.7    11\n",
       "29   영등포  11.8  12.9\n",
       "30    목동  20.9  13.2\n",
       "31    사당   4.8     5\n",
       "32    용산  17.5   6.8\n",
       "33    잠실  12.2  12.2\n",
       "34   장안동  12.4  12.8\n",
       "35    천호  12.6  14.8\n",
       "36  홍대합정   4.1   4.9\n",
       "37    화곡  20.8  19.9"
      ]
     },
     "execution_count": 8,
     "metadata": {},
     "output_type": "execute_result"
    }
   ],
   "source": [
    "coB = pd.merge(df_18, df_19, on=\"하위상권\")\n",
    "coB"
   ]
  },
  {
   "cell_type": "code",
   "execution_count": 9,
   "id": "b430b028",
   "metadata": {},
   "outputs": [],
   "source": [
    "# 서울 지역만 남기고 날림\n",
    "coB = coB.drop(coB.index[:17])"
   ]
  },
  {
   "cell_type": "code",
   "execution_count": 10,
   "id": "dbf48c8d",
   "metadata": {},
   "outputs": [],
   "source": [
    "coB['평균'] = coB.iloc[:, 1:3].mean(axis=1)"
   ]
  },
  {
   "cell_type": "code",
   "execution_count": 11,
   "id": "ff457ab1",
   "metadata": {},
   "outputs": [],
   "source": [
    "coB = coB.reset_index()"
   ]
  },
  {
   "cell_type": "code",
   "execution_count": 12,
   "id": "1c52d6a1",
   "metadata": {},
   "outputs": [
    {
     "name": "stderr",
     "output_type": "stream",
     "text": [
      "C:\\Users\\82103\\AppData\\Local\\Temp/ipykernel_15328/528844221.py:1: FutureWarning: In a future version of pandas all arguments of DataFrame.drop except for the argument 'labels' will be keyword-only\n",
      "  coB = coB.drop('index', 1)\n"
     ]
    }
   ],
   "source": [
    "coB = coB.drop('index', 1)"
   ]
  },
  {
   "cell_type": "code",
   "execution_count": 13,
   "id": "11e8674c",
   "metadata": {},
   "outputs": [],
   "source": [
    "# ...없애기\n",
    "pd.options.display.max_columns = None\n",
    "pd.options.display.max_rows = None"
   ]
  },
  {
   "cell_type": "code",
   "execution_count": 16,
   "id": "0a70bf0e",
   "metadata": {},
   "outputs": [
    {
     "data": {
      "text/plain": [
       "Index(['하위상권', '공실률_x', '공실률_y', '평균'], dtype='object')"
      ]
     },
     "execution_count": 16,
     "metadata": {},
     "output_type": "execute_result"
    }
   ],
   "source": [
    "coB.columns"
   ]
  },
  {
   "cell_type": "code",
   "execution_count": 17,
   "id": "1a0ba3fd",
   "metadata": {},
   "outputs": [],
   "source": [
    "coB.columns = ['지역', '2018 공실률', '2019공실률', '평균']"
   ]
  },
  {
   "cell_type": "code",
   "execution_count": 18,
   "id": "73473a8f",
   "metadata": {
    "scrolled": false
   },
   "outputs": [
    {
     "data": {
      "text/plain": [
       "<Figure size 1080x720 with 0 Axes>"
      ]
     },
     "execution_count": 18,
     "metadata": {},
     "output_type": "execute_result"
    },
    {
     "data": {
      "image/png": "[encoded data removed]",
      "text/plain": [
       "<Figure size 1080x720 with 1 Axes>"
      ]
     },
     "metadata": {
      "needs_background": "light"
     },
     "output_type": "display_data"
    }
   ],
   "source": [
    "plt.figure(figsize=(15,10))\n",
    "\n",
    "splot = sns.barplot(data=coB, x='지역', y='평균')\n",
    "\n",
    "\n",
    "plt.show()\n",
    "sfig = splot.get_figure()\n",
    "sfig.savefig('2018-19_empty.png')"
   ]
  },
  {
   "cell_type": "code",
   "execution_count": 19,
   "id": "f53c43ca",
   "metadata": {},
   "outputs": [],
   "source": [
    "coB.to_csv('2018-19 공실률.csv')"
   ]
  },
  {
   "cell_type": "code",
   "execution_count": null,
   "id": "f2f2326a",
   "metadata": {},
   "outputs": [],
   "source": []
  },
  {
   "cell_type": "code",
   "execution_count": null,
   "id": "87cbaf9f",
   "metadata": {},
   "outputs": [],
   "source": []
  },
  {
   "cell_type": "code",
   "execution_count": null,
   "id": "128510ce",
   "metadata": {},
   "outputs": [],
   "source": []
  }
 ],
 "metadata": {
  "kernelspec": {
   "display_name": "Python 3 (ipykernel)",
   "language": "python",
   "name": "python3"
  },
  "language_info": {
   "codemirror_mode": {
    "name": "ipython",
    "version": 3
   },
   "file_extension": ".py",
   "mimetype": "text/x-python",
   "name": "python",
   "nbconvert_exporter": "python",
   "pygments_lexer": "ipython3",
   "version": "3.9.7"
  }
 },
 "nbformat": 4,
 "nbformat_minor": 5
}
