{
 "cells": [
  {
   "cell_type": "code",
   "execution_count": 1,
   "id": "8b91433e",
   "metadata": {},
   "outputs": [],
   "source": [
    "import pandas as pd\n",
    "import openpyxl\n",
    "from IPython.core.interactiveshell import InteractiveShell\n",
    "InteractiveShell.ast_node_interactivity=\"all\"\n",
    "import datetime as dt\n",
    "import numpy as np\n",
    "import pandas as pd\n",
    "import matplotlib.pyplot as plt\n",
    "import seaborn as sns\n",
    "# 한글 패치\n",
    "from matplotlib import font_manager, rc\n",
    "\n",
    "font_name = font_manager.FontProperties(fname=\"c:/Windows/Fonts/malgun.ttf\").get_name()\n",
    "rc('font', family=font_name)\n",
    "# %matplotlib inline \n",
    "get_ipython().run_line_magic(\"matplotlib\", \"inline\")"
   ]
  },
  {
   "cell_type": "code",
   "execution_count": 2,
   "id": "f8cc8778",
   "metadata": {},
   "outputs": [],
   "source": [
    "df_20 = pd.read_excel('20_공실률.xls')"
   ]
  },
  {
   "cell_type": "code",
   "execution_count": 3,
   "id": "56d4c2c3",
   "metadata": {},
   "outputs": [],
   "source": [
    "df_21 = pd.read_excel('21_공실률.xls')"
   ]
  },
  {
   "cell_type": "code",
   "execution_count": 4,
   "id": "5f78f31a",
   "metadata": {},
   "outputs": [],
   "source": [
    "df_20 = df_20[['하위상권', '공실률']]"
   ]
  },
  {
   "cell_type": "code",
   "execution_count": 5,
   "id": "a6384084",
   "metadata": {},
   "outputs": [],
   "source": [
    "df_21 = df_21[['하위상권', '공실률']]"
   ]
  },
  {
   "cell_type": "code",
   "execution_count": 6,
   "id": "6a6590d0",
   "metadata": {},
   "outputs": [],
   "source": [
    "coA = pd.merge(df_20, df_21, on='하위상권')"
   ]
  },
  {
   "cell_type": "code",
   "execution_count": 7,
   "id": "6804c3f0",
   "metadata": {},
   "outputs": [],
   "source": [
    "# 소계 다 짤라 버리기\n",
    "coA = coA.drop(coA.index[:18])"
   ]
  },
  {
   "cell_type": "code",
   "execution_count": 8,
   "id": "f756dc92",
   "metadata": {},
   "outputs": [],
   "source": [
    "coA = coA.reset_index()"
   ]
  },
  {
   "cell_type": "code",
   "execution_count": 9,
   "id": "775c12f5",
   "metadata": {},
   "outputs": [
    {
     "name": "stderr",
     "output_type": "stream",
     "text": [
      "C:\\Users\\82103\\AppData\\Local\\Temp/ipykernel_2964/1625753909.py:1: FutureWarning: In a future version of pandas all arguments of DataFrame.drop except for the argument 'labels' will be keyword-only\n",
      "  coA = coA.drop('index',1)\n"
     ]
    }
   ],
   "source": [
    "coA = coA.drop('index',1)"
   ]
  },
  {
   "cell_type": "code",
   "execution_count": 10,
   "id": "e20495c9",
   "metadata": {},
   "outputs": [],
   "source": [
    "coA['평균'] = coA.iloc[:, 1:].mean(axis=1)"
   ]
  },
  {
   "cell_type": "code",
   "execution_count": 11,
   "id": "e76e257f",
   "metadata": {},
   "outputs": [],
   "source": [
    "# ...없애기\n",
    "pd.options.display.max_columns = None\n",
    "pd.options.display.max_rows = None"
   ]
  },
  {
   "cell_type": "code",
   "execution_count": 12,
   "id": "e1671ef9",
   "metadata": {},
   "outputs": [],
   "source": [
    "coA.columns = ['지역', '2020공실률', '2021공실률', '평균']"
   ]
  },
  {
   "cell_type": "code",
   "execution_count": 13,
   "id": "dc8daaf6",
   "metadata": {
    "scrolled": false
   },
   "outputs": [
    {
     "data": {
      "text/plain": [
       "<Figure size 1080x720 with 0 Axes>"
      ]
     },
     "execution_count": 13,
     "metadata": {},
     "output_type": "execute_result"
    },
    {
     "data": {
      "image/png": "[encoded data removed]",
      "text/plain": [
       "<Figure size 1080x720 with 1 Axes>"
      ]
     },
     "metadata": {
      "needs_background": "light"
     },
     "output_type": "display_data"
    }
   ],
   "source": [
    "plt.figure(figsize=(15,10))\n",
    "splot = sns.barplot(data=coA, x='지역', y='평균')\n",
    "plt.show()\n",
    "sfig = splot.get_figure()\n",
    "sfig.savefig('2020-21_empty.png')"
   ]
  },
  {
   "cell_type": "code",
   "execution_count": 14,
   "id": "5b1746f9",
   "metadata": {},
   "outputs": [],
   "source": [
    "coA.to_csv('2020-21 공실률.csv')"
   ]
  }
 ],
 "metadata": {
  "kernelspec": {
   "display_name": "Python 3 (ipykernel)",
   "language": "python",
   "name": "python3"
  },
  "language_info": {
   "codemirror_mode": {
    "name": "ipython",
    "version": 3
   },
   "file_extension": ".py",
   "mimetype": "text/x-python",
   "name": "python",
   "nbconvert_exporter": "python",
   "pygments_lexer": "ipython3",
   "version": "3.9.7"
  }
 },
 "nbformat": 4,
 "nbformat_minor": 5
}
